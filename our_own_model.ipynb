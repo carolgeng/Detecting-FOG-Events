{
  "nbformat": 4,
  "nbformat_minor": 0,
  "metadata": {
    "colab": {
      "provenance": []
    },
    "kernelspec": {
      "name": "python3",
      "display_name": "Python 3"
    },
    "language_info": {
      "name": "python"
    }
  },
  "cells": [
    {
      "cell_type": "markdown",
      "source": [
        "# **Michael J. Fox Foundation Model for FOG Events**\n",
        "\n",
        "Retrieving defog data from files"
      ],
      "metadata": {
        "id": "HlPmy9DoyC04"
      }
    },
    {
      "cell_type": "code",
      "execution_count": null,
      "metadata": {
        "id": "ljSO8PVWn9BS",
        "colab": {
          "base_uri": "https://localhost:8080/"
        },
        "outputId": "af47da71-2ea4-44b5-903c-a1abfe6746eb"
      },
      "outputs": [
        {
          "output_type": "stream",
          "name": "stdout",
          "text": [
            "Mounted at /content/drive\n",
            "   Time      AccV     AccML     AccAP  StartHesitation  Turn  Walking  Valid  \\\n",
            "0     0 -0.949674  0.027301 -0.358175                0     0        0  False   \n",
            "1     1 -0.949707  0.027119 -0.361305                0     0        0  False   \n",
            "2     2 -0.951082  0.024896 -0.361723                0     0        0  False   \n",
            "3     3 -0.950639  0.025920 -0.358969                0     0        0  False   \n",
            "4     4 -0.952554  0.027264 -0.357626                0     0        0  False   \n",
            "\n",
            "    Task  \n",
            "0  False  \n",
            "1  False  \n",
            "2  False  \n",
            "3  False  \n",
            "4  False  \n",
            "(13525702, 9)\n"
          ]
        }
      ],
      "source": [
        "import pandas as pd\n",
        "import numpy as np\n",
        "import os\n",
        "import matplotlib.pyplot as plt\n",
        "import seaborn as sns\n",
        "\n",
        "from google.colab import drive\n",
        "\n",
        "drive.mount('/content/drive', force_remount=True)\n",
        "\n",
        "\n",
        "path = \"/content/drive/MyDrive/tlvmc-parkinsons-freezing-gait-prediction/train/defog\"\n",
        "# In order for the following code above to work ^^^^^you must have the copy of the folder in your own Google Drive\n",
        "# Change 'defog' if you would like to inspect a different folder (tdcsfog/defog/notype)\n",
        "\n",
        "# connect file to google drive\n",
        "os.listdir(path)\n",
        "\n",
        "#all_dataframes = {}\n",
        "big_df_list1 = []\n",
        "\n",
        "#Combined all files into one dataframe\n",
        "for filename in os.listdir(path):\n",
        "    if filename.endswith(\".csv\"):\n",
        "        try:\n",
        "            full_path = os.path.join(path, filename)\n",
        "            df = pd.read_csv(full_path)\n",
        "            big_df_list1.append(df)\n",
        "           # all_dataframes[filename] = df\n",
        "        except Exception as e:\n",
        "            print(f\"Error loading {filename}: {e}\")\n",
        "\n",
        "\n",
        "defog_dataframe = pd.concat(big_df_list1, ignore_index=True)\n",
        "print(defog_dataframe.head())\n",
        "print(defog_dataframe.shape)"
      ]
    },
    {
      "cell_type": "markdown",
      "source": [
        "Retrieve tdcsfog files\n",
        "\n"
      ],
      "metadata": {
        "id": "xeXzzJ8xyZLo"
      }
    },
    {
      "cell_type": "code",
      "source": [
        "path = \"/content/drive/MyDrive/tlvmc-parkinsons-freezing-gait-prediction/train/tdcsfog\"\n",
        " # In order for the following code above to work ^^^^^you must have the copy of the folder in your own Google Drive\n",
        "# Change 'defog' if you would like to inspect a different folder (tdcsfog/defog/notype)\n",
        "\n",
        "# connect file to google drive\n",
        "os.listdir(path)\n",
        "\n",
        "#all_dataframes = {}\n",
        "big_df_list2 = []\n",
        "\n",
        "#Combined all files into one dataframe\n",
        "for filename in os.listdir(path):\n",
        "    if filename.endswith(\".csv\"):\n",
        "        try:\n",
        "            full_path = os.path.join(path, filename)\n",
        "            df = pd.read_csv(full_path)\n",
        "            big_df_list2.append(df)\n",
        "           # all_dataframes[filename] = df\n",
        "        except Exception as e:\n",
        "            print(f\"Error loading {filename}: {e}\")\n",
        "\n",
        "\n",
        "tdcsfog_dataframes = pd.concat(big_df_list2, ignore_index=True)"
      ],
      "metadata": {
        "id": "83Uyz6Q79vdA"
      },
      "execution_count": null,
      "outputs": []
    },
    {
      "cell_type": "markdown",
      "source": [
        "# defog"
      ],
      "metadata": {
        "id": "TKX_fzSi8DOM"
      }
    },
    {
      "cell_type": "markdown",
      "source": [
        "Inspect Data\n"
      ],
      "metadata": {
        "id": "G2YiuIJDytEE"
      }
    },
    {
      "cell_type": "code",
      "source": [
        "defog_dataframe.head()"
      ],
      "metadata": {
        "colab": {
          "base_uri": "https://localhost:8080/",
          "height": 206
        },
        "id": "OrUwPsHQyu81",
        "outputId": "78a42603-cc6e-4eb2-c245-06e23ab0ad98"
      },
      "execution_count": null,
      "outputs": [
        {
          "output_type": "execute_result",
          "data": {
            "text/plain": [
              "   Time      AccV     AccML     AccAP  StartHesitation  Turn  Walking  Valid  \\\n",
              "0     0 -0.949674  0.027301 -0.358175                0     0        0  False   \n",
              "1     1 -0.949707  0.027119 -0.361305                0     0        0  False   \n",
              "2     2 -0.951082  0.024896 -0.361723                0     0        0  False   \n",
              "3     3 -0.950639  0.025920 -0.358969                0     0        0  False   \n",
              "4     4 -0.952554  0.027264 -0.357626                0     0        0  False   \n",
              "\n",
              "    Task  \n",
              "0  False  \n",
              "1  False  \n",
              "2  False  \n",
              "3  False  \n",
              "4  False  "
            ],
            "text/html": [
              "\n",
              "  <div id=\"df-3e969f28-9e8d-45e5-bb73-2e9ca29f6047\" class=\"colab-df-container\">\n",
              "    <div>\n",
              "<style scoped>\n",
              "    .dataframe tbody tr th:only-of-type {\n",
              "        vertical-align: middle;\n",
              "    }\n",
              "\n",
              "    .dataframe tbody tr th {\n",
              "        vertical-align: top;\n",
              "    }\n",
              "\n",
              "    .dataframe thead th {\n",
              "        text-align: right;\n",
              "    }\n",
              "</style>\n",
              "<table border=\"1\" class=\"dataframe\">\n",
              "  <thead>\n",
              "    <tr style=\"text-align: right;\">\n",
              "      <th></th>\n",
              "      <th>Time</th>\n",
              "      <th>AccV</th>\n",
              "      <th>AccML</th>\n",
              "      <th>AccAP</th>\n",
              "      <th>StartHesitation</th>\n",
              "      <th>Turn</th>\n",
              "      <th>Walking</th>\n",
              "      <th>Valid</th>\n",
              "      <th>Task</th>\n",
              "    </tr>\n",
              "  </thead>\n",
              "  <tbody>\n",
              "    <tr>\n",
              "      <th>0</th>\n",
              "      <td>0</td>\n",
              "      <td>-0.949674</td>\n",
              "      <td>0.027301</td>\n",
              "      <td>-0.358175</td>\n",
              "      <td>0</td>\n",
              "      <td>0</td>\n",
              "      <td>0</td>\n",
              "      <td>False</td>\n",
              "      <td>False</td>\n",
              "    </tr>\n",
              "    <tr>\n",
              "      <th>1</th>\n",
              "      <td>1</td>\n",
              "      <td>-0.949707</td>\n",
              "      <td>0.027119</td>\n",
              "      <td>-0.361305</td>\n",
              "      <td>0</td>\n",
              "      <td>0</td>\n",
              "      <td>0</td>\n",
              "      <td>False</td>\n",
              "      <td>False</td>\n",
              "    </tr>\n",
              "    <tr>\n",
              "      <th>2</th>\n",
              "      <td>2</td>\n",
              "      <td>-0.951082</td>\n",
              "      <td>0.024896</td>\n",
              "      <td>-0.361723</td>\n",
              "      <td>0</td>\n",
              "      <td>0</td>\n",
              "      <td>0</td>\n",
              "      <td>False</td>\n",
              "      <td>False</td>\n",
              "    </tr>\n",
              "    <tr>\n",
              "      <th>3</th>\n",
              "      <td>3</td>\n",
              "      <td>-0.950639</td>\n",
              "      <td>0.025920</td>\n",
              "      <td>-0.358969</td>\n",
              "      <td>0</td>\n",
              "      <td>0</td>\n",
              "      <td>0</td>\n",
              "      <td>False</td>\n",
              "      <td>False</td>\n",
              "    </tr>\n",
              "    <tr>\n",
              "      <th>4</th>\n",
              "      <td>4</td>\n",
              "      <td>-0.952554</td>\n",
              "      <td>0.027264</td>\n",
              "      <td>-0.357626</td>\n",
              "      <td>0</td>\n",
              "      <td>0</td>\n",
              "      <td>0</td>\n",
              "      <td>False</td>\n",
              "      <td>False</td>\n",
              "    </tr>\n",
              "  </tbody>\n",
              "</table>\n",
              "</div>\n",
              "    <div class=\"colab-df-buttons\">\n",
              "\n",
              "  <div class=\"colab-df-container\">\n",
              "    <button class=\"colab-df-convert\" onclick=\"convertToInteractive('df-3e969f28-9e8d-45e5-bb73-2e9ca29f6047')\"\n",
              "            title=\"Convert this dataframe to an interactive table.\"\n",
              "            style=\"display:none;\">\n",
              "\n",
              "  <svg xmlns=\"http://www.w3.org/2000/svg\" height=\"24px\" viewBox=\"0 -960 960 960\">\n",
              "    <path d=\"M120-120v-720h720v720H120Zm60-500h600v-160H180v160Zm220 220h160v-160H400v160Zm0 220h160v-160H400v160ZM180-400h160v-160H180v160Zm440 0h160v-160H620v160ZM180-180h160v-160H180v160Zm440 0h160v-160H620v160Z\"/>\n",
              "  </svg>\n",
              "    </button>\n",
              "\n",
              "  <style>\n",
              "    .colab-df-container {\n",
              "      display:flex;\n",
              "      gap: 12px;\n",
              "    }\n",
              "\n",
              "    .colab-df-convert {\n",
              "      background-color: #E8F0FE;\n",
              "      border: none;\n",
              "      border-radius: 50%;\n",
              "      cursor: pointer;\n",
              "      display: none;\n",
              "      fill: #1967D2;\n",
              "      height: 32px;\n",
              "      padding: 0 0 0 0;\n",
              "      width: 32px;\n",
              "    }\n",
              "\n",
              "    .colab-df-convert:hover {\n",
              "      background-color: #E2EBFA;\n",
              "      box-shadow: 0px 1px 2px rgba(60, 64, 67, 0.3), 0px 1px 3px 1px rgba(60, 64, 67, 0.15);\n",
              "      fill: #174EA6;\n",
              "    }\n",
              "\n",
              "    .colab-df-buttons div {\n",
              "      margin-bottom: 4px;\n",
              "    }\n",
              "\n",
              "    [theme=dark] .colab-df-convert {\n",
              "      background-color: #3B4455;\n",
              "      fill: #D2E3FC;\n",
              "    }\n",
              "\n",
              "    [theme=dark] .colab-df-convert:hover {\n",
              "      background-color: #434B5C;\n",
              "      box-shadow: 0px 1px 3px 1px rgba(0, 0, 0, 0.15);\n",
              "      filter: drop-shadow(0px 1px 2px rgba(0, 0, 0, 0.3));\n",
              "      fill: #FFFFFF;\n",
              "    }\n",
              "  </style>\n",
              "\n",
              "    <script>\n",
              "      const buttonEl =\n",
              "        document.querySelector('#df-3e969f28-9e8d-45e5-bb73-2e9ca29f6047 button.colab-df-convert');\n",
              "      buttonEl.style.display =\n",
              "        google.colab.kernel.accessAllowed ? 'block' : 'none';\n",
              "\n",
              "      async function convertToInteractive(key) {\n",
              "        const element = document.querySelector('#df-3e969f28-9e8d-45e5-bb73-2e9ca29f6047');\n",
              "        const dataTable =\n",
              "          await google.colab.kernel.invokeFunction('convertToInteractive',\n",
              "                                                    [key], {});\n",
              "        if (!dataTable) return;\n",
              "\n",
              "        const docLinkHtml = 'Like what you see? Visit the ' +\n",
              "          '<a target=\"_blank\" href=https://colab.research.google.com/notebooks/data_table.ipynb>data table notebook</a>'\n",
              "          + ' to learn more about interactive tables.';\n",
              "        element.innerHTML = '';\n",
              "        dataTable['output_type'] = 'display_data';\n",
              "        await google.colab.output.renderOutput(dataTable, element);\n",
              "        const docLink = document.createElement('div');\n",
              "        docLink.innerHTML = docLinkHtml;\n",
              "        element.appendChild(docLink);\n",
              "      }\n",
              "    </script>\n",
              "  </div>\n",
              "\n",
              "\n",
              "<div id=\"df-21fc23ea-8f2a-41ba-a7bf-d16fa7b3b637\">\n",
              "  <button class=\"colab-df-quickchart\" onclick=\"quickchart('df-21fc23ea-8f2a-41ba-a7bf-d16fa7b3b637')\"\n",
              "            title=\"Suggest charts\"\n",
              "            style=\"display:none;\">\n",
              "\n",
              "<svg xmlns=\"http://www.w3.org/2000/svg\" height=\"24px\"viewBox=\"0 0 24 24\"\n",
              "     width=\"24px\">\n",
              "    <g>\n",
              "        <path d=\"M19 3H5c-1.1 0-2 .9-2 2v14c0 1.1.9 2 2 2h14c1.1 0 2-.9 2-2V5c0-1.1-.9-2-2-2zM9 17H7v-7h2v7zm4 0h-2V7h2v10zm4 0h-2v-4h2v4z\"/>\n",
              "    </g>\n",
              "</svg>\n",
              "  </button>\n",
              "\n",
              "<style>\n",
              "  .colab-df-quickchart {\n",
              "      --bg-color: #E8F0FE;\n",
              "      --fill-color: #1967D2;\n",
              "      --hover-bg-color: #E2EBFA;\n",
              "      --hover-fill-color: #174EA6;\n",
              "      --disabled-fill-color: #AAA;\n",
              "      --disabled-bg-color: #DDD;\n",
              "  }\n",
              "\n",
              "  [theme=dark] .colab-df-quickchart {\n",
              "      --bg-color: #3B4455;\n",
              "      --fill-color: #D2E3FC;\n",
              "      --hover-bg-color: #434B5C;\n",
              "      --hover-fill-color: #FFFFFF;\n",
              "      --disabled-bg-color: #3B4455;\n",
              "      --disabled-fill-color: #666;\n",
              "  }\n",
              "\n",
              "  .colab-df-quickchart {\n",
              "    background-color: var(--bg-color);\n",
              "    border: none;\n",
              "    border-radius: 50%;\n",
              "    cursor: pointer;\n",
              "    display: none;\n",
              "    fill: var(--fill-color);\n",
              "    height: 32px;\n",
              "    padding: 0;\n",
              "    width: 32px;\n",
              "  }\n",
              "\n",
              "  .colab-df-quickchart:hover {\n",
              "    background-color: var(--hover-bg-color);\n",
              "    box-shadow: 0 1px 2px rgba(60, 64, 67, 0.3), 0 1px 3px 1px rgba(60, 64, 67, 0.15);\n",
              "    fill: var(--button-hover-fill-color);\n",
              "  }\n",
              "\n",
              "  .colab-df-quickchart-complete:disabled,\n",
              "  .colab-df-quickchart-complete:disabled:hover {\n",
              "    background-color: var(--disabled-bg-color);\n",
              "    fill: var(--disabled-fill-color);\n",
              "    box-shadow: none;\n",
              "  }\n",
              "\n",
              "  .colab-df-spinner {\n",
              "    border: 2px solid var(--fill-color);\n",
              "    border-color: transparent;\n",
              "    border-bottom-color: var(--fill-color);\n",
              "    animation:\n",
              "      spin 1s steps(1) infinite;\n",
              "  }\n",
              "\n",
              "  @keyframes spin {\n",
              "    0% {\n",
              "      border-color: transparent;\n",
              "      border-bottom-color: var(--fill-color);\n",
              "      border-left-color: var(--fill-color);\n",
              "    }\n",
              "    20% {\n",
              "      border-color: transparent;\n",
              "      border-left-color: var(--fill-color);\n",
              "      border-top-color: var(--fill-color);\n",
              "    }\n",
              "    30% {\n",
              "      border-color: transparent;\n",
              "      border-left-color: var(--fill-color);\n",
              "      border-top-color: var(--fill-color);\n",
              "      border-right-color: var(--fill-color);\n",
              "    }\n",
              "    40% {\n",
              "      border-color: transparent;\n",
              "      border-right-color: var(--fill-color);\n",
              "      border-top-color: var(--fill-color);\n",
              "    }\n",
              "    60% {\n",
              "      border-color: transparent;\n",
              "      border-right-color: var(--fill-color);\n",
              "    }\n",
              "    80% {\n",
              "      border-color: transparent;\n",
              "      border-right-color: var(--fill-color);\n",
              "      border-bottom-color: var(--fill-color);\n",
              "    }\n",
              "    90% {\n",
              "      border-color: transparent;\n",
              "      border-bottom-color: var(--fill-color);\n",
              "    }\n",
              "  }\n",
              "</style>\n",
              "\n",
              "  <script>\n",
              "    async function quickchart(key) {\n",
              "      const quickchartButtonEl =\n",
              "        document.querySelector('#' + key + ' button');\n",
              "      quickchartButtonEl.disabled = true;  // To prevent multiple clicks.\n",
              "      quickchartButtonEl.classList.add('colab-df-spinner');\n",
              "      try {\n",
              "        const charts = await google.colab.kernel.invokeFunction(\n",
              "            'suggestCharts', [key], {});\n",
              "      } catch (error) {\n",
              "        console.error('Error during call to suggestCharts:', error);\n",
              "      }\n",
              "      quickchartButtonEl.classList.remove('colab-df-spinner');\n",
              "      quickchartButtonEl.classList.add('colab-df-quickchart-complete');\n",
              "    }\n",
              "    (() => {\n",
              "      let quickchartButtonEl =\n",
              "        document.querySelector('#df-21fc23ea-8f2a-41ba-a7bf-d16fa7b3b637 button');\n",
              "      quickchartButtonEl.style.display =\n",
              "        google.colab.kernel.accessAllowed ? 'block' : 'none';\n",
              "    })();\n",
              "  </script>\n",
              "</div>\n",
              "    </div>\n",
              "  </div>\n"
            ]
          },
          "metadata": {},
          "execution_count": 4
        }
      ]
    },
    {
      "cell_type": "code",
      "source": [
        "defog_dataframe.shape"
      ],
      "metadata": {
        "colab": {
          "base_uri": "https://localhost:8080/"
        },
        "id": "laT0LD6MyyB-",
        "outputId": "cd698084-cfc3-4a59-a218-5b6656ff22c7"
      },
      "execution_count": null,
      "outputs": [
        {
          "output_type": "execute_result",
          "data": {
            "text/plain": [
              "(13525702, 9)"
            ]
          },
          "metadata": {},
          "execution_count": 5
        }
      ]
    },
    {
      "cell_type": "code",
      "source": [
        "defog_dataframe.columns"
      ],
      "metadata": {
        "colab": {
          "base_uri": "https://localhost:8080/"
        },
        "id": "nkD7qwQ5y5P0",
        "outputId": "9facbf57-33d9-431f-b87b-80401df46ddb"
      },
      "execution_count": null,
      "outputs": [
        {
          "output_type": "execute_result",
          "data": {
            "text/plain": [
              "Index(['Time', 'AccV', 'AccML', 'AccAP', 'StartHesitation', 'Turn', 'Walking',\n",
              "       'Valid', 'Task'],\n",
              "      dtype='object')"
            ]
          },
          "metadata": {},
          "execution_count": 6
        }
      ]
    },
    {
      "cell_type": "code",
      "source": [
        "defog_dataframe.describe()"
      ],
      "metadata": {
        "colab": {
          "base_uri": "https://localhost:8080/",
          "height": 300
        },
        "id": "Sv96PJTm0TLv",
        "outputId": "331405ab-627f-47d1-d489-b2a65b7ea2a0"
      },
      "execution_count": null,
      "outputs": [
        {
          "output_type": "execute_result",
          "data": {
            "text/plain": [
              "               Time          AccV         AccML         AccAP  \\\n",
              "count  1.352570e+07  1.352570e+07  1.352570e+07  1.352570e+07   \n",
              "mean   8.661159e+04 -9.401729e-01  1.172785e-03 -1.306152e-01   \n",
              "std    6.479157e+04  8.606514e-02  1.200080e-01  2.823887e-01   \n",
              "min    0.000000e+00 -6.024701e+00 -4.059201e+00 -5.118650e+00   \n",
              "25%    3.725600e+04 -9.865706e-01 -6.250000e-02 -3.125000e-01   \n",
              "50%    7.514900e+04 -9.531250e-01  2.384810e-03 -1.820305e-01   \n",
              "75%    1.211790e+05 -9.062500e-01  7.812500e-02  3.125000e-02   \n",
              "max    4.153870e+05  4.458365e+00  4.524038e+00  4.388132e+00   \n",
              "\n",
              "       StartHesitation          Turn       Walking  \n",
              "count     1.352570e+07  1.352570e+07  1.352570e+07  \n",
              "mean      3.696666e-05  4.343479e-02  7.283836e-03  \n",
              "std       6.079909e-03  2.038338e-01  8.503401e-02  \n",
              "min       0.000000e+00  0.000000e+00  0.000000e+00  \n",
              "25%       0.000000e+00  0.000000e+00  0.000000e+00  \n",
              "50%       0.000000e+00  0.000000e+00  0.000000e+00  \n",
              "75%       0.000000e+00  0.000000e+00  0.000000e+00  \n",
              "max       1.000000e+00  1.000000e+00  1.000000e+00  "
            ],
            "text/html": [
              "\n",
              "  <div id=\"df-72abb961-1e83-43cc-9b72-80506e13c400\" class=\"colab-df-container\">\n",
              "    <div>\n",
              "<style scoped>\n",
              "    .dataframe tbody tr th:only-of-type {\n",
              "        vertical-align: middle;\n",
              "    }\n",
              "\n",
              "    .dataframe tbody tr th {\n",
              "        vertical-align: top;\n",
              "    }\n",
              "\n",
              "    .dataframe thead th {\n",
              "        text-align: right;\n",
              "    }\n",
              "</style>\n",
              "<table border=\"1\" class=\"dataframe\">\n",
              "  <thead>\n",
              "    <tr style=\"text-align: right;\">\n",
              "      <th></th>\n",
              "      <th>Time</th>\n",
              "      <th>AccV</th>\n",
              "      <th>AccML</th>\n",
              "      <th>AccAP</th>\n",
              "      <th>StartHesitation</th>\n",
              "      <th>Turn</th>\n",
              "      <th>Walking</th>\n",
              "    </tr>\n",
              "  </thead>\n",
              "  <tbody>\n",
              "    <tr>\n",
              "      <th>count</th>\n",
              "      <td>1.352570e+07</td>\n",
              "      <td>1.352570e+07</td>\n",
              "      <td>1.352570e+07</td>\n",
              "      <td>1.352570e+07</td>\n",
              "      <td>1.352570e+07</td>\n",
              "      <td>1.352570e+07</td>\n",
              "      <td>1.352570e+07</td>\n",
              "    </tr>\n",
              "    <tr>\n",
              "      <th>mean</th>\n",
              "      <td>8.661159e+04</td>\n",
              "      <td>-9.401729e-01</td>\n",
              "      <td>1.172785e-03</td>\n",
              "      <td>-1.306152e-01</td>\n",
              "      <td>3.696666e-05</td>\n",
              "      <td>4.343479e-02</td>\n",
              "      <td>7.283836e-03</td>\n",
              "    </tr>\n",
              "    <tr>\n",
              "      <th>std</th>\n",
              "      <td>6.479157e+04</td>\n",
              "      <td>8.606514e-02</td>\n",
              "      <td>1.200080e-01</td>\n",
              "      <td>2.823887e-01</td>\n",
              "      <td>6.079909e-03</td>\n",
              "      <td>2.038338e-01</td>\n",
              "      <td>8.503401e-02</td>\n",
              "    </tr>\n",
              "    <tr>\n",
              "      <th>min</th>\n",
              "      <td>0.000000e+00</td>\n",
              "      <td>-6.024701e+00</td>\n",
              "      <td>-4.059201e+00</td>\n",
              "      <td>-5.118650e+00</td>\n",
              "      <td>0.000000e+00</td>\n",
              "      <td>0.000000e+00</td>\n",
              "      <td>0.000000e+00</td>\n",
              "    </tr>\n",
              "    <tr>\n",
              "      <th>25%</th>\n",
              "      <td>3.725600e+04</td>\n",
              "      <td>-9.865706e-01</td>\n",
              "      <td>-6.250000e-02</td>\n",
              "      <td>-3.125000e-01</td>\n",
              "      <td>0.000000e+00</td>\n",
              "      <td>0.000000e+00</td>\n",
              "      <td>0.000000e+00</td>\n",
              "    </tr>\n",
              "    <tr>\n",
              "      <th>50%</th>\n",
              "      <td>7.514900e+04</td>\n",
              "      <td>-9.531250e-01</td>\n",
              "      <td>2.384810e-03</td>\n",
              "      <td>-1.820305e-01</td>\n",
              "      <td>0.000000e+00</td>\n",
              "      <td>0.000000e+00</td>\n",
              "      <td>0.000000e+00</td>\n",
              "    </tr>\n",
              "    <tr>\n",
              "      <th>75%</th>\n",
              "      <td>1.211790e+05</td>\n",
              "      <td>-9.062500e-01</td>\n",
              "      <td>7.812500e-02</td>\n",
              "      <td>3.125000e-02</td>\n",
              "      <td>0.000000e+00</td>\n",
              "      <td>0.000000e+00</td>\n",
              "      <td>0.000000e+00</td>\n",
              "    </tr>\n",
              "    <tr>\n",
              "      <th>max</th>\n",
              "      <td>4.153870e+05</td>\n",
              "      <td>4.458365e+00</td>\n",
              "      <td>4.524038e+00</td>\n",
              "      <td>4.388132e+00</td>\n",
              "      <td>1.000000e+00</td>\n",
              "      <td>1.000000e+00</td>\n",
              "      <td>1.000000e+00</td>\n",
              "    </tr>\n",
              "  </tbody>\n",
              "</table>\n",
              "</div>\n",
              "    <div class=\"colab-df-buttons\">\n",
              "\n",
              "  <div class=\"colab-df-container\">\n",
              "    <button class=\"colab-df-convert\" onclick=\"convertToInteractive('df-72abb961-1e83-43cc-9b72-80506e13c400')\"\n",
              "            title=\"Convert this dataframe to an interactive table.\"\n",
              "            style=\"display:none;\">\n",
              "\n",
              "  <svg xmlns=\"http://www.w3.org/2000/svg\" height=\"24px\" viewBox=\"0 -960 960 960\">\n",
              "    <path d=\"M120-120v-720h720v720H120Zm60-500h600v-160H180v160Zm220 220h160v-160H400v160Zm0 220h160v-160H400v160ZM180-400h160v-160H180v160Zm440 0h160v-160H620v160ZM180-180h160v-160H180v160Zm440 0h160v-160H620v160Z\"/>\n",
              "  </svg>\n",
              "    </button>\n",
              "\n",
              "  <style>\n",
              "    .colab-df-container {\n",
              "      display:flex;\n",
              "      gap: 12px;\n",
              "    }\n",
              "\n",
              "    .colab-df-convert {\n",
              "      background-color: #E8F0FE;\n",
              "      border: none;\n",
              "      border-radius: 50%;\n",
              "      cursor: pointer;\n",
              "      display: none;\n",
              "      fill: #1967D2;\n",
              "      height: 32px;\n",
              "      padding: 0 0 0 0;\n",
              "      width: 32px;\n",
              "    }\n",
              "\n",
              "    .colab-df-convert:hover {\n",
              "      background-color: #E2EBFA;\n",
              "      box-shadow: 0px 1px 2px rgba(60, 64, 67, 0.3), 0px 1px 3px 1px rgba(60, 64, 67, 0.15);\n",
              "      fill: #174EA6;\n",
              "    }\n",
              "\n",
              "    .colab-df-buttons div {\n",
              "      margin-bottom: 4px;\n",
              "    }\n",
              "\n",
              "    [theme=dark] .colab-df-convert {\n",
              "      background-color: #3B4455;\n",
              "      fill: #D2E3FC;\n",
              "    }\n",
              "\n",
              "    [theme=dark] .colab-df-convert:hover {\n",
              "      background-color: #434B5C;\n",
              "      box-shadow: 0px 1px 3px 1px rgba(0, 0, 0, 0.15);\n",
              "      filter: drop-shadow(0px 1px 2px rgba(0, 0, 0, 0.3));\n",
              "      fill: #FFFFFF;\n",
              "    }\n",
              "  </style>\n",
              "\n",
              "    <script>\n",
              "      const buttonEl =\n",
              "        document.querySelector('#df-72abb961-1e83-43cc-9b72-80506e13c400 button.colab-df-convert');\n",
              "      buttonEl.style.display =\n",
              "        google.colab.kernel.accessAllowed ? 'block' : 'none';\n",
              "\n",
              "      async function convertToInteractive(key) {\n",
              "        const element = document.querySelector('#df-72abb961-1e83-43cc-9b72-80506e13c400');\n",
              "        const dataTable =\n",
              "          await google.colab.kernel.invokeFunction('convertToInteractive',\n",
              "                                                    [key], {});\n",
              "        if (!dataTable) return;\n",
              "\n",
              "        const docLinkHtml = 'Like what you see? Visit the ' +\n",
              "          '<a target=\"_blank\" href=https://colab.research.google.com/notebooks/data_table.ipynb>data table notebook</a>'\n",
              "          + ' to learn more about interactive tables.';\n",
              "        element.innerHTML = '';\n",
              "        dataTable['output_type'] = 'display_data';\n",
              "        await google.colab.output.renderOutput(dataTable, element);\n",
              "        const docLink = document.createElement('div');\n",
              "        docLink.innerHTML = docLinkHtml;\n",
              "        element.appendChild(docLink);\n",
              "      }\n",
              "    </script>\n",
              "  </div>\n",
              "\n",
              "\n",
              "<div id=\"df-eb7b3070-5d00-432c-9661-4ea8740fd6a5\">\n",
              "  <button class=\"colab-df-quickchart\" onclick=\"quickchart('df-eb7b3070-5d00-432c-9661-4ea8740fd6a5')\"\n",
              "            title=\"Suggest charts\"\n",
              "            style=\"display:none;\">\n",
              "\n",
              "<svg xmlns=\"http://www.w3.org/2000/svg\" height=\"24px\"viewBox=\"0 0 24 24\"\n",
              "     width=\"24px\">\n",
              "    <g>\n",
              "        <path d=\"M19 3H5c-1.1 0-2 .9-2 2v14c0 1.1.9 2 2 2h14c1.1 0 2-.9 2-2V5c0-1.1-.9-2-2-2zM9 17H7v-7h2v7zm4 0h-2V7h2v10zm4 0h-2v-4h2v4z\"/>\n",
              "    </g>\n",
              "</svg>\n",
              "  </button>\n",
              "\n",
              "<style>\n",
              "  .colab-df-quickchart {\n",
              "      --bg-color: #E8F0FE;\n",
              "      --fill-color: #1967D2;\n",
              "      --hover-bg-color: #E2EBFA;\n",
              "      --hover-fill-color: #174EA6;\n",
              "      --disabled-fill-color: #AAA;\n",
              "      --disabled-bg-color: #DDD;\n",
              "  }\n",
              "\n",
              "  [theme=dark] .colab-df-quickchart {\n",
              "      --bg-color: #3B4455;\n",
              "      --fill-color: #D2E3FC;\n",
              "      --hover-bg-color: #434B5C;\n",
              "      --hover-fill-color: #FFFFFF;\n",
              "      --disabled-bg-color: #3B4455;\n",
              "      --disabled-fill-color: #666;\n",
              "  }\n",
              "\n",
              "  .colab-df-quickchart {\n",
              "    background-color: var(--bg-color);\n",
              "    border: none;\n",
              "    border-radius: 50%;\n",
              "    cursor: pointer;\n",
              "    display: none;\n",
              "    fill: var(--fill-color);\n",
              "    height: 32px;\n",
              "    padding: 0;\n",
              "    width: 32px;\n",
              "  }\n",
              "\n",
              "  .colab-df-quickchart:hover {\n",
              "    background-color: var(--hover-bg-color);\n",
              "    box-shadow: 0 1px 2px rgba(60, 64, 67, 0.3), 0 1px 3px 1px rgba(60, 64, 67, 0.15);\n",
              "    fill: var(--button-hover-fill-color);\n",
              "  }\n",
              "\n",
              "  .colab-df-quickchart-complete:disabled,\n",
              "  .colab-df-quickchart-complete:disabled:hover {\n",
              "    background-color: var(--disabled-bg-color);\n",
              "    fill: var(--disabled-fill-color);\n",
              "    box-shadow: none;\n",
              "  }\n",
              "\n",
              "  .colab-df-spinner {\n",
              "    border: 2px solid var(--fill-color);\n",
              "    border-color: transparent;\n",
              "    border-bottom-color: var(--fill-color);\n",
              "    animation:\n",
              "      spin 1s steps(1) infinite;\n",
              "  }\n",
              "\n",
              "  @keyframes spin {\n",
              "    0% {\n",
              "      border-color: transparent;\n",
              "      border-bottom-color: var(--fill-color);\n",
              "      border-left-color: var(--fill-color);\n",
              "    }\n",
              "    20% {\n",
              "      border-color: transparent;\n",
              "      border-left-color: var(--fill-color);\n",
              "      border-top-color: var(--fill-color);\n",
              "    }\n",
              "    30% {\n",
              "      border-color: transparent;\n",
              "      border-left-color: var(--fill-color);\n",
              "      border-top-color: var(--fill-color);\n",
              "      border-right-color: var(--fill-color);\n",
              "    }\n",
              "    40% {\n",
              "      border-color: transparent;\n",
              "      border-right-color: var(--fill-color);\n",
              "      border-top-color: var(--fill-color);\n",
              "    }\n",
              "    60% {\n",
              "      border-color: transparent;\n",
              "      border-right-color: var(--fill-color);\n",
              "    }\n",
              "    80% {\n",
              "      border-color: transparent;\n",
              "      border-right-color: var(--fill-color);\n",
              "      border-bottom-color: var(--fill-color);\n",
              "    }\n",
              "    90% {\n",
              "      border-color: transparent;\n",
              "      border-bottom-color: var(--fill-color);\n",
              "    }\n",
              "  }\n",
              "</style>\n",
              "\n",
              "  <script>\n",
              "    async function quickchart(key) {\n",
              "      const quickchartButtonEl =\n",
              "        document.querySelector('#' + key + ' button');\n",
              "      quickchartButtonEl.disabled = true;  // To prevent multiple clicks.\n",
              "      quickchartButtonEl.classList.add('colab-df-spinner');\n",
              "      try {\n",
              "        const charts = await google.colab.kernel.invokeFunction(\n",
              "            'suggestCharts', [key], {});\n",
              "      } catch (error) {\n",
              "        console.error('Error during call to suggestCharts:', error);\n",
              "      }\n",
              "      quickchartButtonEl.classList.remove('colab-df-spinner');\n",
              "      quickchartButtonEl.classList.add('colab-df-quickchart-complete');\n",
              "    }\n",
              "    (() => {\n",
              "      let quickchartButtonEl =\n",
              "        document.querySelector('#df-eb7b3070-5d00-432c-9661-4ea8740fd6a5 button');\n",
              "      quickchartButtonEl.style.display =\n",
              "        google.colab.kernel.accessAllowed ? 'block' : 'none';\n",
              "    })();\n",
              "  </script>\n",
              "</div>\n",
              "    </div>\n",
              "  </div>\n"
            ]
          },
          "metadata": {},
          "execution_count": 7
        }
      ]
    },
    {
      "cell_type": "code",
      "source": [
        "defog_dataframe.dtypes"
      ],
      "metadata": {
        "colab": {
          "base_uri": "https://localhost:8080/"
        },
        "id": "ylvYnr1ZzA-s",
        "outputId": "8a74ca3f-a516-4464-ee9e-67b2ae125b6b"
      },
      "execution_count": null,
      "outputs": [
        {
          "output_type": "execute_result",
          "data": {
            "text/plain": [
              "Time                 int64\n",
              "AccV               float64\n",
              "AccML              float64\n",
              "AccAP              float64\n",
              "StartHesitation      int64\n",
              "Turn                 int64\n",
              "Walking              int64\n",
              "Valid                 bool\n",
              "Task                  bool\n",
              "dtype: object"
            ]
          },
          "metadata": {},
          "execution_count": 8
        }
      ]
    },
    {
      "cell_type": "code",
      "source": [
        "# graph, takes very long to execute\n",
        "fig, ax = plt.subplots(figsize=(10, 6))\n",
        "\n",
        "for column in defog_dataframe.columns:\n",
        "    if column != 'Time':\n",
        "        ax.plot(defog_dataframe['Time'], defog_dataframe[column], label=column)\n",
        "\n",
        "ax.set_title('Relevance of Columns Over Time')\n",
        "ax.set_xlabel('Time')\n",
        "ax.set_ylabel('Values')\n",
        "ax.legend()\n",
        "plt.show()"
      ],
      "metadata": {
        "colab": {
          "base_uri": "https://localhost:8080/",
          "height": 564
        },
        "id": "oRWl572ezMi_",
        "outputId": "35e468f5-69c7-40c3-92e1-bb941cb03898"
      },
      "execution_count": null,
      "outputs": [
        {
          "output_type": "display_data",
          "data": {
            "text/plain": [
              "<Figure size 1000x600 with 1 Axes>"
            ],
            "image/png": "[encoded data removed]"
          },
          "metadata": {}
        }
      ]
    },
    {
      "cell_type": "markdown",
      "source": [
        "Filters for data cleaning\n"
      ],
      "metadata": {
        "id": "rr64qfHXydSX"
      }
    },
    {
      "cell_type": "code",
      "source": [
        "# Filter the DataFrame to include only rows where both 'Valid' and 'Task' are True\n",
        "# AND at least one of 'StartHesitation', 'Turn', or 'Walking' is True\n",
        "filtered_defog_df = defog_dataframe[(defog_dataframe['Valid']) &\n",
        "                                    (defog_dataframe['Task']) &\n",
        "                                    ((defog_dataframe['StartHesitation']) |\n",
        "                                     (defog_dataframe['Turn']) |\n",
        "                                     (defog_dataframe['Walking']))]\n",
        "\n",
        "# Get the count of rows in the filtered DataFrame\n",
        "count_filtered_rows = filtered_defog_df.shape[0]\n",
        "\n",
        "# Print the count\n",
        "print(f\"Number of rows meeting the criteria: {count_filtered_rows}\")\n",
        "print(filtered_defog_df.head())\n"
      ],
      "metadata": {
        "id": "nUabwYJNKNoC",
        "colab": {
          "base_uri": "https://localhost:8080/"
        },
        "outputId": "9b29674f-62e1-490f-a9ef-b15340c848fb"
      },
      "execution_count": null,
      "outputs": [
        {
          "output_type": "stream",
          "name": "stdout",
          "text": [
            "Number of rows meeting the criteria: 685847\n",
            "        Time      AccV     AccML     AccAP  StartHesitation  Turn  Walking  \\\n",
            "38471  38471 -0.949638  0.281363 -0.531166                0     1        0   \n",
            "38472  38472 -0.918431  0.281424 -0.480869                0     1        0   \n",
            "38473  38473 -0.891975  0.237493 -0.487495                0     1        0   \n",
            "38474  38474 -0.905892  0.172896 -0.545668                0     1        0   \n",
            "38475  38475 -0.957020  0.105509 -0.579020                0     1        0   \n",
            "\n",
            "       Valid  Task  \n",
            "38471   True  True  \n",
            "38472   True  True  \n",
            "38473   True  True  \n",
            "38474   True  True  \n",
            "38475   True  True  \n"
          ]
        }
      ]
    },
    {
      "cell_type": "code",
      "source": [
        "print(filtered_defog_df.shape)\n"
      ],
      "metadata": {
        "colab": {
          "base_uri": "https://localhost:8080/"
        },
        "id": "ZvsNLu_SFn8X",
        "outputId": "38f6e732-f219-44e8-d76a-444f25a41c39"
      },
      "execution_count": null,
      "outputs": [
        {
          "output_type": "stream",
          "name": "stdout",
          "text": [
            "(685847, 9)\n"
          ]
        }
      ]
    },
    {
      "cell_type": "code",
      "source": [
        "filtered_defog_df.isna().sum()"
      ],
      "metadata": {
        "id": "P73Z79WSzAEe",
        "colab": {
          "base_uri": "https://localhost:8080/"
        },
        "outputId": "c88152b2-8e5e-446c-be10-23b5b5cb65af"
      },
      "execution_count": null,
      "outputs": [
        {
          "output_type": "execute_result",
          "data": {
            "text/plain": [
              "Time               0\n",
              "AccV               0\n",
              "AccML              0\n",
              "AccAP              0\n",
              "StartHesitation    0\n",
              "Turn               0\n",
              "Walking            0\n",
              "Valid              0\n",
              "Task               0\n",
              "dtype: int64"
            ]
          },
          "metadata": {},
          "execution_count": 12
        }
      ]
    },
    {
      "cell_type": "markdown",
      "source": [
        "From this data,  we are using AccV, AccML, and AccAP to predict the start, stop, and occurence of events. We also need to determine the occurrences of 3 gait events: Start Hesitation, Turn, and Walking.\n",
        "\n",
        "AccV, AccML, and AccAP Acceleration from a lower-back sensor on three axes: V - vertical, ML - mediolateral, AP - anteroposterior. Data is in units of m/s^2 for tdcsfog/ and g for defog/ and notype/.\n"
      ],
      "metadata": {
        "id": "ijJEtlJk2Plk"
      }
    },
    {
      "cell_type": "markdown",
      "source": [
        "## Predicting Start and Stop Time\n",
        "Linear Regression Model"
      ],
      "metadata": {
        "id": "Gjr-tTFd4Z4b"
      }
    },
    {
      "cell_type": "code",
      "source": [
        "import pandas as pd\n",
        "from sklearn.model_selection import train_test_split\n",
        "from sklearn.ensemble import RandomForestRegressor\n",
        "from sklearn.metrics import mean_squared_error"
      ],
      "metadata": {
        "id": "fAAtHeNQ5ub2"
      },
      "execution_count": null,
      "outputs": []
    },
    {
      "cell_type": "code",
      "source": [
        "filtered_defog_df.columns"
      ],
      "metadata": {
        "id": "y91_2t9F_GA2",
        "colab": {
          "base_uri": "https://localhost:8080/"
        },
        "outputId": "0d2fc54b-476c-45a2-f521-4bee22626efe"
      },
      "execution_count": null,
      "outputs": [
        {
          "output_type": "execute_result",
          "data": {
            "text/plain": [
              "Index(['Time', 'AccV', 'AccML', 'AccAP', 'StartHesitation', 'Turn', 'Walking',\n",
              "       'Valid', 'Task'],\n",
              "      dtype='object')"
            ]
          },
          "metadata": {},
          "execution_count": 14
        }
      ]
    },
    {
      "cell_type": "markdown",
      "source": [
        "find start and stop times\n"
      ],
      "metadata": {
        "id": "poHsB5ylFDLR"
      }
    },
    {
      "cell_type": "markdown",
      "source": [
        "training"
      ],
      "metadata": {
        "id": "f-DyNZ3KFG2R"
      }
    },
    {
      "cell_type": "code",
      "source": [
        "from sklearn.cluster import KMeans\n",
        "from sklearn.model_selection import train_test_split\n",
        "from sklearn.ensemble import RandomForestClassifier\n",
        "from sklearn.metrics import accuracy_score\n",
        "\n",
        "# Step 1: Apply K-means Clustering\n",
        "num_clusters = 2  # For start and stop\n",
        "kmeans = KMeans(n_clusters=num_clusters, random_state=42)\n",
        "\n",
        "# Explicitly create a copy of the DataFrame\n",
        "df_subset = filtered_defog_df[['AccV', 'AccML', 'AccAP']].copy()\n",
        "\n",
        "# Fit and predict clusters\n",
        "filtered_defog_df['Cluster'] = kmeans.fit_predict(df_subset)\n",
        "\n",
        "# Step 2: Identify Start and Stop Times\n",
        "# Group by cluster and find the average values for each cluster\n",
        "cluster_centers = filtered_defog_df.groupby('Cluster')[['AccV', 'AccML', 'AccAP']].mean()\n",
        "\n",
        "# Identify the start and stop clusters\n",
        "start_cluster = cluster_centers['AccV'].idxmax()\n",
        "stop_cluster = cluster_centers['AccV'].idxmin()\n",
        "\n",
        "# Identify the start and stop times based on the identified clusters\n",
        "start_times = filtered_defog_df[filtered_defog_df['Cluster'] == start_cluster]['Time']\n",
        "stop_times = filtered_defog_df[filtered_defog_df['Cluster'] == stop_cluster]['Time']\n",
        "\n",
        "# Step 3: Prepare Features and Labels\n",
        "features = filtered_defog_df[['AccV', 'AccML', 'AccAP']]\n",
        "\n",
        "# Assuming 'labels' are the clusters identified for each sample (0 for start, 1 for stop)\n",
        "labels = filtered_defog_df['Cluster']\n",
        "\n",
        "# Step 4: Split the Data\n",
        "X_train, X_test, y_train, y_test = train_test_split(features, labels, test_size=0.2, random_state=42, stratify=labels)\n",
        "\n",
        "print(y_test)\n",
        "def train_test_random_forest(X_train, X_test, y_train, y_test, n_estimators=100, max_depth=None):\n",
        "    model = RandomForestClassifier(n_estimators=n_estimators, max_depth=max_depth, random_state=42)\n",
        "    model.fit(X_train, y_train)\n",
        "    class_label_predictions = model.predict(X_test)\n",
        "    acc_score = accuracy_score(y_test, class_label_predictions)\n",
        "    return acc_score\n",
        "\n",
        "max_depth_values = [2, 5, 10, 20]\n",
        "accuracy_list = []\n",
        "\n",
        "for max_depth in max_depth_values:\n",
        "    accuracy = train_test_random_forest(X_train, X_test, y_train, y_test, n_estimators=100, max_depth=max_depth)\n",
        "    accuracy_list.append(accuracy)\n",
        "    print(\"Accuracy score for max_depth={}: {}\".format(max_depth, accuracy))\n",
        "\n",
        "# Visualize accuracy scores\n",
        "fig = plt.figure()\n",
        "ax = fig.add_subplot(111)\n",
        "p = sns.lineplot(x=max_depth_values, y=accuracy_list, marker='o', label='Accuracy')\n",
        "plt.title('Test set accuracy of the model predictions')\n",
        "ax.set_xlabel('max_depth values')\n",
        "ax.set_ylabel('Accuracy')\n",
        "plt.show()\n",
        "\n"
      ],
      "metadata": {
        "id": "2pQ0ZcLHEv95",
        "colab": {
          "base_uri": "https://localhost:8080/",
          "height": 909
        },
        "outputId": "039b69a9-3494-4f82-d45a-df5f87e50122"
      },
      "execution_count": null,
      "outputs": [
        {
          "output_type": "stream",
          "name": "stderr",
          "text": [
            "/usr/local/lib/python3.10/dist-packages/sklearn/cluster/_kmeans.py:870: FutureWarning: The default value of `n_init` will change from 10 to 'auto' in 1.4. Set the value of `n_init` explicitly to suppress the warning\n",
            "  warnings.warn(\n",
            "<ipython-input-21-3ec0bccc1049>:14: SettingWithCopyWarning: \n",
            "A value is trying to be set on a copy of a slice from a DataFrame.\n",
            "Try using .loc[row_indexer,col_indexer] = value instead\n",
            "\n",
            "See the caveats in the documentation: https://pandas.pydata.org/pandas-docs/stable/user_guide/indexing.html#returning-a-view-versus-a-copy\n",
            "  filtered_defog_df['Cluster'] = kmeans.fit_predict(df_subset)\n"
          ]
        },
        {
          "output_type": "stream",
          "name": "stdout",
          "text": [
            "5040052     1\n",
            "2879653     0\n",
            "9767100     0\n",
            "11025397    1\n",
            "5768831     1\n",
            "           ..\n",
            "3449805     0\n",
            "5451812     0\n",
            "12634657    0\n",
            "8413865     0\n",
            "5503296     0\n",
            "Name: Cluster, Length: 137170, dtype: int32\n",
            "Accuracy score for max_depth=2: 0.9401837136400087\n",
            "Accuracy score for max_depth=5: 0.9725450171320259\n",
            "Accuracy score for max_depth=10: 0.9937012466282715\n",
            "Accuracy score for max_depth=20: 0.997229714952249\n"
          ]
        },
        {
          "output_type": "display_data",
          "data": {
            "text/plain": [
              "<Figure size 640x480 with 1 Axes>"
            ],
            "image/png": "[encoded data removed]"
          },
          "metadata": {}
        }
      ]
    },
    {
      "cell_type": "code",
      "source": [
        "print(y_test)\n"
      ],
      "metadata": {
        "colab": {
          "base_uri": "https://localhost:8080/"
        },
        "id": "Q-hGAL07theb",
        "outputId": "04a58f71-ff1b-4315-d408-c9bf3b4285c9"
      },
      "execution_count": null,
      "outputs": [
        {
          "output_type": "stream",
          "name": "stdout",
          "text": [
            "1189    0\n",
            "543     0\n",
            "1653    0\n",
            "2802    0\n",
            "934     0\n",
            "       ..\n",
            "216     0\n",
            "1051    0\n",
            "1117    0\n",
            "3015    0\n",
            "336     0\n",
            "Name: Walking, Length: 1395, dtype: int64\n"
          ]
        }
      ]
    },
    {
      "cell_type": "markdown",
      "source": [
        "## Predicting the 3 Gait Events\n",
        "Classification Model"
      ],
      "metadata": {
        "id": "V9O4198T4h2q"
      }
    },
    {
      "cell_type": "code",
      "source": [
        "import pandas as pd\n",
        "from sklearn.model_selection import train_test_split\n",
        "from sklearn.ensemble import RandomForestClassifier\n",
        "from sklearn.metrics import accuracy_score, classification_report"
      ],
      "metadata": {
        "id": "FCfd6YC95Qcq"
      },
      "execution_count": null,
      "outputs": []
    },
    {
      "cell_type": "markdown",
      "source": [
        "Start Hesitation Predictions"
      ],
      "metadata": {
        "id": "53oVyY_e5pnu"
      }
    },
    {
      "cell_type": "code",
      "source": [
        "from sklearn.model_selection import train_test_split\n",
        "from sklearn.ensemble import RandomForestClassifier\n",
        "from sklearn.metrics import accuracy_score\n",
        "import matplotlib.pyplot as plt\n",
        "import seaborn as sns\n",
        "\n",
        "# Assuming 'df' is your DataFrame\n",
        "X = df[['AccV', 'AccML', 'AccAP']]  # Features\n",
        "y = df['StartHesitation']  # Target\n",
        "\n",
        "# Split the data into training and testing sets\n",
        "X_train, X_test, y_train, y_test = train_test_split(X, y, test_size=0.33, random_state=123)\n",
        "\n",
        "def train_test_random_forest(X_train, X_test, y_train, y_test, n_estimators=100, max_depth=None):\n",
        "    model = RandomForestClassifier(n_estimators=n_estimators, max_depth=max_depth, random_state=42)\n",
        "    model.fit(X_train, y_train)\n",
        "    class_label_predictions = model.predict(X_test)\n",
        "    acc_score = accuracy_score(y_test, class_label_predictions)\n",
        "    return acc_score\n",
        "\n",
        "max_depth_values = [2, 5, 10, 20]\n",
        "accuracy_list = []\n",
        "\n",
        "for max_depth in max_depth_values:\n",
        "    accuracy = train_test_random_forest(X_train, X_test, y_train, y_test, n_estimators=100, max_depth=max_depth)\n",
        "    accuracy_list.append(accuracy)\n",
        "    print(\"Accuracy score for max_depth={}: {}\".format(max_depth, accuracy))\n",
        "\n",
        "# Visualize accuracy scores\n",
        "fig = plt.figure()\n",
        "ax = fig.add_subplot(111)\n",
        "p = sns.lineplot(x=max_depth_values, y=accuracy_list, marker='o', label='Accuracy')\n",
        "plt.title('Test set accuracy of the model predictions')\n",
        "ax.set_xlabel('max_depth values')\n",
        "ax.set_ylabel('Accuracy')\n",
        "plt.show()\n"
      ],
      "metadata": {
        "id": "zYWS1bKd5Fun",
        "colab": {
          "base_uri": "https://localhost:8080/",
          "height": 541
        },
        "outputId": "18a412d6-107f-4f3a-e3ae-d33c93bf3d8e"
      },
      "execution_count": null,
      "outputs": [
        {
          "output_type": "stream",
          "name": "stdout",
          "text": [
            "Accuracy score for max_depth=2: 1.0\n",
            "Accuracy score for max_depth=5: 1.0\n",
            "Accuracy score for max_depth=10: 1.0\n",
            "Accuracy score for max_depth=20: 1.0\n"
          ]
        },
        {
          "output_type": "display_data",
          "data": {
            "text/plain": [
              "<Figure size 640x480 with 1 Axes>"
            ],
            "image/png": "[encoded data removed]"
          },
          "metadata": {}
        }
      ]
    },
    {
      "cell_type": "code",
      "source": [
        "from sklearn.model_selection import train_test_split\n",
        "from sklearn.ensemble import RandomForestClassifier\n",
        "from sklearn.metrics import accuracy_score\n",
        "import matplotlib.pyplot as plt\n",
        "import seaborn as sns\n",
        "\n",
        "# Assuming 'df' is your DataFrame\n",
        "X = df[['AccV', 'AccML', 'AccAP']]  # Features\n",
        "y = df['Turn']  # Target\n",
        "\n",
        "# Split the data into training and testing sets\n",
        "X_train, X_test, y_train, y_test = train_test_split(X, y, test_size=0.33, random_state=123)\n",
        "print(y_test)\n",
        "\n",
        "def train_test_random_forest(X_train, X_test, y_train, y_test, n_estimators=100, max_depth=None):\n",
        "    model = RandomForestClassifier(n_estimators=n_estimators, max_depth=max_depth, random_state=42)\n",
        "    model.fit(X_train, y_train)\n",
        "    class_label_predictions = model.predict(X_test)\n",
        "    acc_score = accuracy_score(y_test, class_label_predictions)\n",
        "    return acc_score\n",
        "\n",
        "max_depth_values = [2, 5, 10, 20]\n",
        "accuracy_list = []\n",
        "\n",
        "for max_depth in max_depth_values:\n",
        "    accuracy = train_test_random_forest(X_train, X_test, y_train, y_test, n_estimators=100, max_depth=max_depth)\n",
        "    accuracy_list.append(accuracy)\n",
        "    print(\"Accuracy score for max_depth={}: {}\".format(max_depth, accuracy))\n",
        "\n",
        "# Visualize accuracy scores\n",
        "fig = plt.figure()\n",
        "ax = fig.add_subplot(111)\n",
        "p = sns.lineplot(x=max_depth_values, y=accuracy_list, marker='o', label='Accuracy')\n",
        "plt.title('Test set accuracy of the model predictions')\n",
        "ax.set_xlabel('max_depth values')\n",
        "ax.set_ylabel('Accuracy')\n",
        "plt.show()\n"
      ],
      "metadata": {
        "id": "ewaJBe2jJqt_",
        "colab": {
          "base_uri": "https://localhost:8080/",
          "height": 750
        },
        "outputId": "afa28745-53ae-43ec-b6b8-6c16ffb055b0"
      },
      "execution_count": null,
      "outputs": [
        {
          "output_type": "stream",
          "name": "stdout",
          "text": [
            "1189    0\n",
            "543     0\n",
            "1653    0\n",
            "2802    0\n",
            "934     0\n",
            "       ..\n",
            "216     0\n",
            "1051    0\n",
            "1117    0\n",
            "3015    0\n",
            "336     0\n",
            "Name: Turn, Length: 1395, dtype: int64\n",
            "Accuracy score for max_depth=2: 1.0\n",
            "Accuracy score for max_depth=5: 1.0\n",
            "Accuracy score for max_depth=10: 1.0\n",
            "Accuracy score for max_depth=20: 1.0\n"
          ]
        },
        {
          "output_type": "display_data",
          "data": {
            "text/plain": [
              "<Figure size 640x480 with 1 Axes>"
            ],
            "image/png": "[encoded data removed]"
          },
          "metadata": {}
        }
      ]
    },
    {
      "cell_type": "code",
      "source": [
        "from sklearn.model_selection import train_test_split\n",
        "from sklearn.ensemble import RandomForestClassifier\n",
        "from sklearn.metrics import accuracy_score\n",
        "import matplotlib.pyplot as plt\n",
        "import seaborn as sns\n",
        "\n",
        "# Assuming 'df' is your DataFrame\n",
        "X = df[['AccV', 'AccML', 'AccAP']]  # Features\n",
        "y = df['Walking']  # Target\n",
        "\n",
        "# Split the data into training and testing sets\n",
        "X_train, X_test, y_train, y_test = train_test_split(X, y, test_size=0.33, random_state=123)\n",
        "\n",
        "def train_test_random_forest(X_train, X_test, y_train, y_test, n_estimators=100, max_depth=None):\n",
        "    model = RandomForestClassifier(n_estimators=n_estimators, max_depth=max_depth, random_state=42)\n",
        "    model.fit(X_train, y_train)\n",
        "    class_label_predictions = model.predict(X_test)\n",
        "    acc_score = accuracy_score(y_test, class_label_predictions)\n",
        "    return acc_score\n",
        "\n",
        "max_depth_values = [2, 5, 10, 20]\n",
        "accuracy_list = []\n",
        "\n",
        "for max_depth in max_depth_values:\n",
        "    accuracy = train_test_random_forest(X_train, X_test, y_train, y_test, n_estimators=100, max_depth=max_depth)\n",
        "    accuracy_list.append(accuracy)\n",
        "    print(\"Accuracy score for max_depth={}: {}\".format(max_depth, accuracy))\n",
        "\n",
        "# Visualize accuracy scores\n",
        "fig = plt.figure()\n",
        "ax = fig.add_subplot(111)\n",
        "p = sns.lineplot(x=max_depth_values, y=accuracy_list, marker='o', label='Accuracy')\n",
        "plt.title('Test set accuracy of the model predictions')\n",
        "ax.set_xlabel('max_depth values')\n",
        "ax.set_ylabel('Accuracy')\n",
        "plt.show()\n"
      ],
      "metadata": {
        "id": "oA2CzhulJrZA",
        "colab": {
          "base_uri": "https://localhost:8080/",
          "height": 541
        },
        "outputId": "8b9e0b50-5cc7-461b-a4c2-006b2ae7ab73"
      },
      "execution_count": null,
      "outputs": [
        {
          "output_type": "stream",
          "name": "stdout",
          "text": [
            "Accuracy score for max_depth=2: 1.0\n",
            "Accuracy score for max_depth=5: 1.0\n",
            "Accuracy score for max_depth=10: 1.0\n",
            "Accuracy score for max_depth=20: 1.0\n"
          ]
        },
        {
          "output_type": "display_data",
          "data": {
            "text/plain": [
              "<Figure size 640x480 with 1 Axes>"
            ],
            "image/png": "[encoded data removed]"
          },
          "metadata": {}
        }
      ]
    }
  ]
}