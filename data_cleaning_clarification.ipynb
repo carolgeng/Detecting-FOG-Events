{
  "cells": [
    {
      "cell_type": "code",
      "execution_count": null,
      "metadata": {
        "id": "Vltl0bRkZ6HZ",
        "colab": {
          "base_uri": "https://localhost:8080/",
          "height": 262
        },
        "outputId": "77f6063b-d332-459f-e36c-9e87301fde57"
      },
      "outputs": [
        {
          "output_type": "stream",
          "name": "stdout",
          "text": [
            "Mounted at /content/drive\n"
          ]
        },
        {
          "output_type": "error",
          "ename": "FileNotFoundError",
          "evalue": "ignored",
          "traceback": [
            "\u001b[0;31m---------------------------------------------------------------------------\u001b[0m",
            "\u001b[0;31mFileNotFoundError\u001b[0m                         Traceback (most recent call last)",
            "\u001b[0;32m<ipython-input-1-55ba96e20b3a>\u001b[0m in \u001b[0;36m<cell line: 17>\u001b[0;34m()\u001b[0m\n\u001b[1;32m     15\u001b[0m \u001b[0;34m\u001b[0m\u001b[0m\n\u001b[1;32m     16\u001b[0m \u001b[0;31m# connect file to google drive\u001b[0m\u001b[0;34m\u001b[0m\u001b[0;34m\u001b[0m\u001b[0m\n\u001b[0;32m---> 17\u001b[0;31m \u001b[0mos\u001b[0m\u001b[0;34m.\u001b[0m\u001b[0mlistdir\u001b[0m\u001b[0;34m(\u001b[0m\u001b[0mpath\u001b[0m\u001b[0;34m)\u001b[0m\u001b[0;34m\u001b[0m\u001b[0;34m\u001b[0m\u001b[0m\n\u001b[0m\u001b[1;32m     18\u001b[0m \u001b[0;34m\u001b[0m\u001b[0m\n\u001b[1;32m     19\u001b[0m \u001b[0;31m#all_dataframes = {}\u001b[0m\u001b[0;34m\u001b[0m\u001b[0;34m\u001b[0m\u001b[0m\n",
            "\u001b[0;31mFileNotFoundError\u001b[0m: [Errno 2] No such file or directory: '/content/drive/MyDrive/tlvmc-parkinsons-freezing-gait-prediction/train/defog'"
          ]
        }
      ],
      "source": [
        "import pandas as pd\n",
        "import numpy as np\n",
        "import os\n",
        "import matplotlib.pyplot as plt\n",
        "import seaborn as sns\n",
        "\n",
        "from google.colab import drive\n",
        "\n",
        "drive.mount('/content/drive', force_remount=True)\n",
        "\n",
        "\n",
        "path = \"/content/drive/MyDrive/tlvmc-parkinsons-freezing-gait-prediction/train/defog\"\n",
        " # In order for the following code above to work ^^^^^you must have the copy of the folder in your own Google Drive\n",
        "# Change 'defog' if you would like to inspect a different folder (tdcsfog/defog/notype)\n",
        "\n",
        "# connect file to google drive\n",
        "os.listdir(path)\n",
        "\n",
        "#all_dataframes = {}\n",
        "big_df_list1 = []\n",
        "\n",
        "#Combined all files into one dataframe\n",
        "for filename in os.listdir(path):\n",
        "    if filename.endswith(\".csv\"):\n",
        "        try:\n",
        "            full_path = os.path.join(path, filename)\n",
        "            df = pd.read_csv(full_path)\n",
        "            big_df_list1.append(df)\n",
        "           # all_dataframes[filename] = df\n",
        "        except Exception as e:\n",
        "            print(f\"Error loading {filename}: {e}\")\n",
        "\n",
        "\n",
        "defog_dataframe = pd.concat(big_df_list1, ignore_index=True)\n",
        "print(defog_dataframe.head())\n",
        "print(defog_dataframe.shape)"
      ]
    },
    {
      "cell_type": "code",
      "source": [
        "path = \"/content/drive/MyDrive/tlvmc-parkinsons-freezing-gait-prediction/train/tdcsfog\"\n",
        " # In order for the following code above to work ^^^^^you must have the copy of the folder in your own Google Drive\n",
        "# Change 'defog' if you would like to inspect a different folder (tdcsfog/defog/notype)\n",
        "\n",
        "# connect file to google drive\n",
        "os.listdir(path)\n",
        "\n",
        "#all_dataframes = {}\n",
        "big_df_list2 = []\n",
        "\n",
        "#Combined all files into one dataframe\n",
        "for filename in os.listdir(path):\n",
        "    if filename.endswith(\".csv\"):\n",
        "        try:\n",
        "            full_path = os.path.join(path, filename)\n",
        "            df = pd.read_csv(full_path)\n",
        "            big_df_list2.append(df)\n",
        "           # all_dataframes[filename] = df\n",
        "        except Exception as e:\n",
        "            print(f\"Error loading {filename}: {e}\")\n",
        "\n",
        "\n",
        "tdcsfog_dataframes = pd.concat(big_df_list2, ignore_index=True)\n",
        "print(tdcsfog_dataframes.head())\n",
        "print(tdcsfog_dataframes.shape)"
      ],
      "metadata": {
        "id": "u4l96GD4uOFc"
      },
      "execution_count": null,
      "outputs": []
    },
    {
      "cell_type": "code",
      "source": [
        "# Assuming 'tdcsfog_dataframes' is your DataFrame\n",
        "\n",
        "# Filter the DataFrame to include only rows where at least one of 'StartHesitation', 'Turn', or 'Walking' is 1 (True)\n",
        "filtered_tdcsfog_df = tdcsfog_dataframes[(tdcsfog_dataframes['StartHesitation'] == 1) |\n",
        "                                         (tdcsfog_dataframes['Turn'] == 1) |\n",
        "                                         (tdcsfog_dataframes['Walking'] == 1)]\n",
        "\n",
        "# Get the count of rows in the filtered DataFrame\n",
        "count_filtered_rows1 = filtered_tdcsfog_df.shape[0]\n",
        "\n",
        "# Print the count\n",
        "print(f\"Number of rows meeting the criteria: {count_filtered_rows1}\")\n",
        "print(filtered_tdcsfog_df.head())\n"
      ],
      "metadata": {
        "id": "2Xq9Pw4QL24f"
      },
      "execution_count": null,
      "outputs": []
    },
    {
      "cell_type": "code",
      "source": [
        "# Assuming 'defog_dataframe' is your original DataFrame\n",
        "\n",
        "# Filter the DataFrame to include only rows where both 'Valid' and 'Task' are True\n",
        "# AND at least one of 'StartHesitation', 'Turn', or 'Walking' is True\n",
        "filtered_defog_df = defog_dataframe[(defog_dataframe['Valid'] == True) &\n",
        "                                    (defog_dataframe['Task'] == True) &\n",
        "                                    (defog_dataframe['StartHesitation'] == True) |\n",
        "                                     (defog_dataframe['Turn'] == True) |\n",
        "                                     (defog_dataframe['Walking'] == True)]\n",
        "# Get the count of rows in the filtered DataFrame\n",
        "count_filtered_rows = filtered_defog_df.shape[0]\n",
        "\n",
        "# Print the count\n",
        "print(f\"Number of rows meeting the criteria: {count_filtered_rows}\")\n",
        "print(filtered_defog_df.head())\n"
      ],
      "metadata": {
        "id": "XaNFs2-t7wMZ"
      },
      "execution_count": null,
      "outputs": []
    },
    {
      "cell_type": "markdown",
      "source": [
        "Make sure to clarify in the presentation what each of the files mean and why you had chosen the files that we picked and the pros and cons of each."
      ],
      "metadata": {
        "id": "EM_2z9ebQNJd"
      }
    },
    {
      "cell_type": "code",
      "source": [],
      "metadata": {
        "id": "eNmPhfLKjp9p"
      },
      "execution_count": null,
      "outputs": []
    }
  ],
  "metadata": {
    "colab": {
      "provenance": [],
      "gpuType": "T4"
    },
    "kernelspec": {
      "display_name": "Python 3",
      "name": "python3"
    },
    "language_info": {
      "name": "python"
    },
    "accelerator": "GPU"
  },
  "nbformat": 4,
  "nbformat_minor": 0
}